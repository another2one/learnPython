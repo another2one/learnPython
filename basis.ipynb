{
 "cells": [
  {
   "cell_type": "markdown",
   "metadata": {},
   "source": [
    "# 数据打印"
   ]
  },
  {
   "cell_type": "code",
   "execution_count": 5,
   "metadata": {},
   "outputs": [
    {
     "data": {
      "text/plain": [
       "[0, 1]"
      ]
     },
     "execution_count": 5,
     "metadata": {},
     "output_type": "execute_result"
    }
   ],
   "source": [
    "list(range(2))"
   ]
  },
  {
   "cell_type": "code",
   "execution_count": 3,
   "metadata": {},
   "outputs": [
    {
     "name": "stdout",
     "output_type": "stream",
     "text": [
      "1024  768 = 1024 768\n"
     ]
    }
   ],
   "source": [
    "print('1024  768 =',1024,768)"
   ]
  },
  {
   "cell_type": "code",
   "execution_count": 57,
   "metadata": {},
   "outputs": [
    {
     "name": "stdout",
     "output_type": "stream",
     "text": [
      "lizhi知道圆周率是3.14159 ....."
     ]
    }
   ],
   "source": [
    "name = 'lizhi'\n",
    "print('%s知道圆周率是%.5f' % (name,3.1415926),end=' .....')"
   ]
  },
  {
   "cell_type": "markdown",
   "metadata": {},
   "source": [
    "# 编码类型"
   ]
  },
  {
   "cell_type": "code",
   "execution_count": 10,
   "metadata": {},
   "outputs": [
    {
     "data": {
      "text/plain": [
       "7"
      ]
     },
     "execution_count": 10,
     "metadata": {},
     "output_type": "execute_result"
    }
   ],
   "source": [
    "b'ABC'.decode('ascii')\n",
    "len('中二q'.encode('utf-8'))"
   ]
  },
  {
   "cell_type": "markdown",
   "metadata": {},
   "source": [
    "# 四种数据类型（list,tuple,dict,set）"
   ]
  },
  {
   "cell_type": "code",
   "execution_count": 59,
   "metadata": {},
   "outputs": [
    {
     "name": "stdout",
     "output_type": "stream",
     "text": [
      "['python', ['asp', 'php'], 'scheme']\n",
      "['php', 'python', ['asp', 'php'], 'scheme']\n",
      "['php', 'python', ['asp', 'php'], 'scheme', 'c']\n",
      "('python',)\n",
      "python\n",
      "75\n",
      "60\n",
      "{1, 2, 3}\n",
      "{2, 3}\n",
      "{1, 2, 3, 4}\n",
      "{1, 2, 3, 4}\n",
      "{1, 2, 3}\n"
     ]
    }
   ],
   "source": [
    "# list\n",
    "s = ['python', 'java', ['asp', 'php'], 'scheme']\n",
    "s.pop(1)\n",
    "print(s)\n",
    "s.insert(0,'php')\n",
    "print(s)\n",
    "s.append('c')\n",
    "print(s)\n",
    "# tuple\n",
    "t = ('python',)\n",
    "print(t)\n",
    "t = ('python','java')\n",
    "print(t[0])\n",
    "# dict\n",
    "d = {'Michael': 95, 'Bob': 75, 'Tracy': 85}\n",
    "print(d['Bob'])\n",
    "Thomas = d.get('Thomas', '60')\n",
    "print(Thomas)\n",
    "d['end'] = 'end'\n",
    "# set\n",
    "ss = set([1, 1, 2, 2, 3, 3])\n",
    "print(ss)\n",
    "sl = set([2,3,4])\n",
    "print(sl & ss)\n",
    "print(sl | ss)\n",
    "ss.add(4)\n",
    "print(ss)\n",
    "ss.remove(4)\n",
    "print(ss)"
   ]
  },
  {
   "cell_type": "markdown",
   "metadata": {},
   "source": [
    "# 自定义函数"
   ]
  },
  {
   "cell_type": "code",
   "execution_count": 40,
   "metadata": {},
   "outputs": [
    {
     "data": {
      "text/plain": [
       "2"
      ]
     },
     "execution_count": 40,
     "metadata": {},
     "output_type": "execute_result"
    }
   ],
   "source": [
    "# 求绝对值\n",
    "def my_abs(x):\n",
    "    if not isinstance(x, (int, float)):\n",
    "        raise TypeError('bad operand type')\n",
    "    if x >= 0:\n",
    "        return x\n",
    "    else:\n",
    "        return -x\n",
    "    \n",
    "    \n",
    "a = my_abs\n",
    "a(2)"
   ]
  },
  {
   "cell_type": "code",
   "execution_count": 41,
   "metadata": {},
   "outputs": [
    {
     "name": "stdout",
     "output_type": "stream",
     "text": [
      "(12.0, -4.0)\n"
     ]
    }
   ],
   "source": [
    "#!/usr/bin/env python3\n",
    "# -*- coding: utf-8 -*-\n",
    "import math\n",
    "\n",
    "# ax2 + bx + c 求解函数，输入a,b,c 返回解\n",
    "def quadratic(a,b,c):\n",
    "    f = abs(b**2 - 2*a*c)\n",
    "    return (-1*b+f)/2*a , (-1*b-f)/2*a\n",
    "\n",
    "\n",
    "print(quadratic(2,-4,6))"
   ]
  },
  {
   "cell_type": "markdown",
   "metadata": {},
   "source": [
    "# 默认参数"
   ]
  },
  {
   "cell_type": "code",
   "execution_count": null,
   "metadata": {},
   "outputs": [],
   "source": [
    "n = 4\n",
    "def power(x,n=2):\n",
    "    if not isinstance(n, int):\n",
    "        raise TypeError('bad operand type')\n",
    "    s = 1\n",
    "    if not n>1:\n",
    "        return 'are you kidding ? '\n",
    "    while n:\n",
    "        s *= x\n",
    "        n = n-1\n",
    "    return s\n",
    "power(3,n)\n",
    "print(n)"
   ]
  },
  {
   "cell_type": "markdown",
   "metadata": {},
   "source": [
    "# 可变参数（转为tuple）"
   ]
  },
  {
   "cell_type": "code",
   "execution_count": 42,
   "metadata": {
    "scrolled": true
   },
   "outputs": [
    {
     "name": "stdout",
     "output_type": "stream",
     "text": [
      "{'age': 3, 'end': 'end'}\n",
      "type of nums :  <class 'tuple'>\n",
      "(51, 3)\n",
      "type of nums :  <class 'tuple'>\n",
      "(23963, 3)\n"
     ]
    }
   ],
   "source": [
    "def add_list(l={'age':3}):\n",
    "    if 'end'in l:\n",
    "        return\n",
    "    l['end'] = 'end'\n",
    "l = {'age':3}\n",
    "add_list(l)\n",
    "print(l)\n",
    "\n",
    "def able_change(*nums):\n",
    "    print('type of nums : ',type(nums))\n",
    "    s = 0\n",
    "    for n in nums:\n",
    "        s += n*n\n",
    "    return s,3\n",
    "print(able_change(1,3,4,5))\n",
    "nums = [99,89,79]\n",
    "print(able_change(*nums))"
   ]
  },
  {
   "cell_type": "markdown",
   "metadata": {},
   "source": [
    "# 关键字参数"
   ]
  },
  {
   "cell_type": "code",
   "execution_count": 51,
   "metadata": {},
   "outputs": [
    {
     "name": "stdout",
     "output_type": "stream",
     "text": [
      "name = lzihi ; age =12 ; {'tel': 13129996214, 'heiht': 78}\n",
      "name = lzihi ; age =12 ; {'tel': 6666}\n",
      "name = lzihi ; age =12 ;\n"
     ]
    }
   ],
   "source": [
    "def key_params(name,age,**other):\n",
    "    print('name = %s ; age =%d ;' % (name,age),other)\n",
    "key_params('lzihi',12,tel=13129996214,heiht=78)\n",
    "d = {'tel':6666}\n",
    "key_params('lzihi',12,**d)\n",
    "\n",
    "def key_params2(name,*,age):\n",
    "    if age:\n",
    "        print('name = %s ; age =%d ;' % (name,age))\n",
    "key_params2('lzihi',age=12)"
   ]
  },
  {
   "cell_type": "markdown",
   "metadata": {},
   "source": [
    "# 多参数组合（参数定义的顺序必须是：必选参数、默认参数、可变参数、命名关键字参数和关键字参数）"
   ]
  },
  {
   "cell_type": "code",
   "execution_count": 1,
   "metadata": {},
   "outputs": [
    {
     "name": "stdout",
     "output_type": "stream",
     "text": [
      "a = 1 b = 2 c = 0 args = () kw = {}\n",
      "a = 1 b = 2 c = 3 args = () kw = {}\n",
      "a = 1 b = 2 c = 3 args = ('a', 'b') kw = {}\n",
      "a = 1 b = 2 c = 3 args = ('a', 'b') kw = {'x': 99}\n",
      "a = 1 b = 2 c = 0 d = 99 kw = {'ext': None}\n",
      "a = 1 b = 2 c = 3 args = (4,) kw = {'d': 99, 'x': '#'}\n",
      "a = 1 b = 2 c = 3 d = 88 kw = {'x': '#'}\n"
     ]
    }
   ],
   "source": [
    "def f1(a, b, c=0, *args, **kw):\n",
    "    print('a =', a, 'b =', b, 'c =', c, 'args =', args, 'kw =', kw)\n",
    "\n",
    "def f2(a, b, c=0, *, d, **kw):\n",
    "    print('a =', a, 'b =', b, 'c =', c, 'd =', d, 'kw =', kw)\n",
    "    \n",
    "f1(1, 2)\n",
    "f1(1, 2, c=3)\n",
    "f1(1, 2, 3, 'a', 'b')\n",
    "f1(1, 2, 3, 'a', 'b', x=99)\n",
    "f2(1, 2, d=99, ext=None)\n",
    "args = (1, 2, 3, 4)\n",
    "kw = {'d': 99, 'x': '#'}\n",
    "f1(*args, **kw)\n",
    "args = (1, 2, 3)\n",
    "kw = {'d': 88, 'x': '#'}\n",
    "f2(*args, **kw)"
   ]
  },
  {
   "cell_type": "code",
   "execution_count": 1,
   "metadata": {},
   "outputs": [
    {
     "name": "stdout",
     "output_type": "stream",
     "text": [
      "<class 'list'>\n",
      "<class 'tuple'>\n",
      "[5, 9, 8]\n"
     ]
    }
   ],
   "source": [
    "def product(*nums):\n",
    "    print(type(nums))\n",
    "    s = 1\n",
    "    for n in nums:\n",
    "        s *= n\n",
    "    return s\n",
    "a = [5,9,8]\n",
    "print(type(a))\n",
    "print(product(a))"
   ]
  },
  {
   "cell_type": "code",
   "execution_count": 143,
   "metadata": {},
   "outputs": [
    {
     "name": "stdout",
     "output_type": "stream",
     "text": [
      "3628800\n"
     ]
    }
   ],
   "source": [
    "def recursion(n,s=1):\n",
    "    if n == 1:\n",
    "        return s\n",
    "    return recursion(n-1,s*n)\n",
    "print(recursion(10))\n",
    "    "
   ]
  },
  {
   "cell_type": "markdown",
   "metadata": {},
   "source": [
    "# 迭代"
   ]
  },
  {
   "cell_type": "code",
   "execution_count": 4,
   "metadata": {},
   "outputs": [
    {
     "name": "stdout",
     "output_type": "stream",
     "text": [
      "a\n",
      "b\n",
      "c\n",
      "a 1\n",
      "b 2\n",
      "c 3\n",
      "1\n",
      "2\n",
      "3\n"
     ]
    }
   ],
   "source": [
    "d = {'a': 1, 'b': 2, 'c': 3}\n",
    "for k in d:\n",
    "    print(k)\n",
    "for k,v in d.items():\n",
    "    print(k,v)\n",
    "for k in d.values():\n",
    "    print(k)"
   ]
  },
  {
   "cell_type": "markdown",
   "metadata": {},
   "source": [
    "# 生成器"
   ]
  },
  {
   "cell_type": "code",
   "execution_count": 2,
   "metadata": {
    "scrolled": true
   },
   "outputs": [
    {
     "name": "stdout",
     "output_type": "stream",
     "text": [
      "<generator object <genexpr> at 0x077D9EA0>\n",
      "[10, 12, 12]\n"
     ]
    }
   ],
   "source": [
    "b = (y+x for x in (2,3,4) for y in (7,8,9) if y%x == 0)\n",
    "c = [y+x for x in (2,3,4) for y in (7,8,9) if y%x == 0]\n",
    "print(b)\n",
    "print(c)"
   ]
  },
  {
   "cell_type": "code",
   "execution_count": 33,
   "metadata": {
    "scrolled": false
   },
   "outputs": [
    {
     "name": "stdout",
     "output_type": "stream",
     "text": [
      "g: 1\n",
      "g: 1\n",
      "g: 2\n",
      "g: 3\n",
      "g: 5\n",
      "g: 8\n",
      "Generator return value: done\n"
     ]
    }
   ],
   "source": [
    "def fib(max):\n",
    "    n, a, b = 0, 0, 1\n",
    "    while n < max:\n",
    "        yield b\n",
    "        a, b = b, a + b\n",
    "        n = n + 1\n",
    "    return 'done'\n",
    "\n",
    "\n",
    "g = fib(6)\n",
    "while True:\n",
    "    try:\n",
    "        x = next(g)\n",
    "        print('g:', x)\n",
    "    except StopIteration as e:\n",
    "        print('Generator return value:', e.value)\n",
    "        break"
   ]
  },
  {
   "cell_type": "markdown",
   "metadata": {},
   "source": [
    "# 杨辉三角"
   ]
  },
  {
   "cell_type": "code",
   "execution_count": 68,
   "metadata": {},
   "outputs": [
    {
     "name": "stdout",
     "output_type": "stream",
     "text": [
      "[1]\n",
      "\n",
      "[1, 1]\n",
      "\n",
      "[1, 2, 1]\n",
      "\n",
      "[1, 3, 3, 1]\n",
      "\n",
      "[1, 4, 6, 4, 1]\n",
      "\n",
      "[1, 5, 10, 10, 5, 1]\n",
      "\n",
      "[1, 6, 15, 20, 15, 6, 1]\n",
      "\n",
      "[1, 7, 21, 35, 35, 21, 7, 1]\n",
      "\n",
      "[1, 8, 28, 56, 70, 56, 28, 8, 1]\n",
      "\n",
      "Generator return value: done\n"
     ]
    }
   ],
   "source": [
    "def triangles(n):\n",
    "    count = 1\n",
    "    g = [1]\n",
    "    while count <= n:\n",
    "        yield g\n",
    "        ss = g[:]\n",
    "        g = []\n",
    "        pre = 0\n",
    "        for i in ss:\n",
    "            g.append(pre+i)\n",
    "            pre = i\n",
    "        g.append(1)\n",
    "        count += 1\n",
    "        print()\n",
    "    return 'done'\n",
    "\n",
    "\n",
    "ff = triangles(9)\n",
    "while True:\n",
    "    try:\n",
    "        x = next(ff)\n",
    "        print(x)\n",
    "    except StopIteration as e:\n",
    "        print('Generator return value:', e.value)\n",
    "        break"
   ]
  },
  {
   "cell_type": "markdown",
   "metadata": {},
   "source": [
    "# 字符串转数字"
   ]
  },
  {
   "cell_type": "code",
   "execution_count": 1,
   "metadata": {},
   "outputs": [],
   "source": [
    "# from functools import reduce\n",
    "DIGITS = {'0': 0, '1': 1, '2': 2, '3': 3, '4': 4, '5': 5, '6': 6, '7': 7, '8': 8, '9': 9 ,'.':'.'}\n",
    "\n",
    "\n",
    "def char2num(s):\n",
    "    return DIGITS[s]\n"
   ]
  },
  {
   "cell_type": "markdown",
   "metadata": {},
   "source": [
    "# 返回函数"
   ]
  },
  {
   "cell_type": "code",
   "execution_count": 63,
   "metadata": {},
   "outputs": [
    {
     "ename": "TypeError",
     "evalue": "f() missing 1 required positional argument: 'j'",
     "output_type": "error",
     "traceback": [
      "\u001b[1;31m---------------------------------------------------------------------------\u001b[0m",
      "\u001b[1;31mTypeError\u001b[0m                                 Traceback (most recent call last)",
      "\u001b[1;32m<ipython-input-63-ca97ab14e59f>\u001b[0m in \u001b[0;36m<module>\u001b[1;34m()\u001b[0m\n\u001b[0;32m      6\u001b[0m \u001b[1;33m\u001b[0m\u001b[0m\n\u001b[0;32m      7\u001b[0m \u001b[0maa\u001b[0m \u001b[1;33m=\u001b[0m \u001b[0mcount\u001b[0m\u001b[1;33m(\u001b[0m\u001b[1;36m2\u001b[0m\u001b[1;33m)\u001b[0m\u001b[1;33m\u001b[0m\u001b[0m\n\u001b[1;32m----> 8\u001b[1;33m \u001b[0mprint\u001b[0m\u001b[1;33m(\u001b[0m\u001b[0maa\u001b[0m\u001b[1;33m(\u001b[0m\u001b[1;33m)\u001b[0m\u001b[1;33m)\u001b[0m\u001b[1;33m\u001b[0m\u001b[0m\n\u001b[0m\u001b[0;32m      9\u001b[0m \u001b[1;33m\u001b[0m\u001b[0m\n\u001b[0;32m     10\u001b[0m \u001b[1;33m\u001b[0m\u001b[0m\n",
      "\u001b[1;31mTypeError\u001b[0m: f() missing 1 required positional argument: 'j'"
     ]
    }
   ],
   "source": [
    "def count(a):\n",
    "    def f():\n",
    "        return a*a\n",
    "    return f\n",
    "\n",
    "\n",
    "aa = count(2)\n",
    "print(aa()) \n",
    "\n",
    "\n",
    "def count1(a):\n",
    "    aa = []\n",
    "    for i in range(1,a+1):\n",
    "        def f():\n",
    "            return i*i\n",
    "        aa.append(f)\n",
    "    return aa\n",
    "\n",
    "\n",
    "f1, f2, f3 = count1(3)\n",
    "print(f1())\n",
    "print(f2())\n",
    "print(f3())\n",
    "\n",
    "\n",
    "def count2(a):\n",
    "    def ff():\n",
    "        def f():\n",
    "            return a*a\n",
    "        return f\n",
    "    return ff()\n",
    "\n",
    "\n",
    "aa = count2(2)\n",
    "print(aa()) \n",
    "\n",
    "\n",
    "\n",
    "def count3(a):\n",
    "    aa = []\n",
    "    def f(i):\n",
    "        def ff():\n",
    "            return i*i\n",
    "        return ff\n",
    "    for i in range(1,a+1):\n",
    "        aa.append(f(i))\n",
    "    return aa\n",
    "\n",
    "def count3_lite(a):\n",
    "    aa = []\n",
    "    ff = lambda i : lambda: i*i\n",
    "    for i in range(1,a+1):\n",
    "        aa.append(ff(i))\n",
    "    return aa\n",
    "\n",
    "\n",
    "f1, f2, f3 = count3(3)\n",
    "print(f1())\n",
    "print(f2())\n",
    "print(f3())\n",
    "\n",
    "\n",
    "def count4(a):\n",
    "    def count2():\n",
    "        def ff():\n",
    "            def f():\n",
    "                return a*a\n",
    "            return f\n",
    "        return ff()\n",
    "    return count2()\n",
    "\n",
    "\n",
    "aa = count4(10)\n",
    "print(aa()) "
   ]
  },
  {
   "cell_type": "markdown",
   "metadata": {},
   "source": [
    "# 匿名函数"
   ]
  },
  {
   "cell_type": "code",
   "execution_count": 59,
   "metadata": {},
   "outputs": [
    {
     "name": "stdout",
     "output_type": "stream",
     "text": [
      "[1, 4, 9, 16, 25, 36, 49, 64, 81]\n",
      "25\n",
      "61\n"
     ]
    }
   ],
   "source": [
    "lst = list(map(lambda x: x * x, [1, 2, 3, 4, 5, 6, 7, 8, 9]))\n",
    "print(lst)\n",
    "\n",
    "f = lambda x: x * x\n",
    "f5 = f(5)\n",
    "print(f5)\n",
    "\n",
    "\n",
    "def build(x, y):\n",
    "    return lambda: x * x + y * y\n",
    "lam = build(5,6)\n",
    "print(lam())\n"
   ]
  },
  {
   "cell_type": "markdown",
   "metadata": {},
   "source": [
    "# 装饰器"
   ]
  },
  {
   "cell_type": "code",
   "execution_count": 72,
   "metadata": {},
   "outputs": [
    {
     "name": "stdout",
     "output_type": "stream",
     "text": [
      "call yesterday():\n",
      "2019-5-13\n"
     ]
    }
   ],
   "source": [
    "def now():\n",
    "     print('2015-3-25')\n",
    "a = now\n",
    "type(a)\n",
    "\n",
    "\n",
    "# def log(func):\n",
    "#     def wrapper(*args, **kw):\n",
    "#         print('call %s():' % func.__name__)\n",
    "#         return func(*args, **kw)\n",
    "#     print('call wrapper')\n",
    "#     return wrapper\n",
    "\n",
    "def log(func):\n",
    "        print('call %s():' % func.__name__)\n",
    "        return func\n",
    "\n",
    "@log\n",
    "def yesterday():\n",
    "    print('2019-5-13')\n",
    "    \n",
    "yesterday()"
   ]
  }
 ],
 "metadata": {
  "kernelspec": {
   "display_name": "Python 3",
   "language": "python",
   "name": "python3"
  },
  "language_info": {
   "codemirror_mode": {
    "name": "ipython",
    "version": 3
   },
   "file_extension": ".py",
   "mimetype": "text/x-python",
   "name": "python",
   "nbconvert_exporter": "python",
   "pygments_lexer": "ipython3",
   "version": "3.6.4"
  }
 },
 "nbformat": 4,
 "nbformat_minor": 2
}
